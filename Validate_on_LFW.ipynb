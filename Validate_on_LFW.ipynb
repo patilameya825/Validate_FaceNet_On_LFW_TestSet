{
  "nbformat": 4,
  "nbformat_minor": 0,
  "metadata": {
    "colab": {
      "name": "Validate on LFW.ipynb",
      "version": "0.3.2",
      "provenance": [],
      "collapsed_sections": [],
      "include_colab_link": true
    },
    "kernelspec": {
      "name": "python3",
      "display_name": "Python 3"
    },
    "accelerator": "GPU"
  },
  "cells": [
    {
      "cell_type": "markdown",
      "metadata": {
        "id": "view-in-github",
        "colab_type": "text"
      },
      "source": [
        "<a href=\"https://colab.research.google.com/github/patilameya825/validate_on_lfw/blob/master/Validate_on_LFW.ipynb\" target=\"_parent\"><img src=\"https://colab.research.google.com/assets/colab-badge.svg\" alt=\"Open In Colab\"/></a>"
      ]
    },
    {
      "metadata": {
        "id": "tfgBQhf_JlEO",
        "colab_type": "text"
      },
      "cell_type": "markdown",
      "source": [
        "# Validate on LFW"
      ]
    },
    {
      "metadata": {
        "id": "4p7njq81Jfq7",
        "colab_type": "text"
      },
      "cell_type": "markdown",
      "source": [
        "## 1. Install dependencies"
      ]
    },
    {
      "metadata": {
        "id": "sFwXgUBrINjj",
        "colab_type": "code",
        "colab": {}
      },
      "cell_type": "code",
      "source": [
        "!git clone https://github.com/davidsandberg/facenet\n",
        "%cd facenet\n",
        "!sudo apt install -y python-pip\n",
        "!pip install -r requirements.txt\n",
        "%cd ../"
      ],
      "execution_count": 0,
      "outputs": []
    },
    {
      "metadata": {
        "id": "cEKSE5pVJsrv",
        "colab_type": "text"
      },
      "cell_type": "markdown",
      "source": [
        "## 2. Download the LFW dataset"
      ]
    },
    {
      "metadata": {
        "id": "RUh6XYQ2JuHy",
        "colab_type": "text"
      },
      "cell_type": "markdown",
      "source": [
        "### 1. Download unaligned images from [here](http://vis-www.cs.umass.edu/lfw/lfw.tgz)"
      ]
    },
    {
      "metadata": {
        "id": "WcsKYk22J3Jm",
        "colab_type": "code",
        "colab": {}
      },
      "cell_type": "code",
      "source": [
        "!wget http://vis-www.cs.umass.edu/lfw/lfw.tgz"
      ],
      "execution_count": 0,
      "outputs": []
    },
    {
      "metadata": {
        "id": "of6l33YVKwdm",
        "colab_type": "text"
      },
      "cell_type": "markdown",
      "source": [
        "### 2. Extract the unaligned images to local storage"
      ]
    },
    {
      "metadata": {
        "id": "duoEj9YUKzlN",
        "colab_type": "code",
        "colab": {}
      },
      "cell_type": "code",
      "source": [
        "!mkdir -p lfw/raw\n",
        "!tar xvf lfw.tgz -C lfw/raw --strip-components=1"
      ],
      "execution_count": 0,
      "outputs": []
    },
    {
      "metadata": {
        "id": "PgtjkgBgKr_g",
        "colab_type": "text"
      },
      "cell_type": "markdown",
      "source": [
        "## 3. Set the python path"
      ]
    },
    {
      "metadata": {
        "id": "61cPqL3vKtOZ",
        "colab_type": "code",
        "colab": {}
      },
      "cell_type": "code",
      "source": [
        "import os\n",
        "os.environ['PYTHONPATH'] += \":/content/facenet/src\""
      ],
      "execution_count": 0,
      "outputs": []
    },
    {
      "metadata": {
        "id": "Z7vcAkQzMLD4",
        "colab_type": "text"
      },
      "cell_type": "markdown",
      "source": [
        "## 4. Align the LFW dataset"
      ]
    },
    {
      "metadata": {
        "id": "H3r-nSnCMMeI",
        "colab_type": "code",
        "colab": {}
      },
      "cell_type": "code",
      "source": [
        "%%shell\n",
        "for N in {1..4}; do \\\n",
        "python facenet/src/align/align_dataset_mtcnn.py \\\n",
        "/content/lfw/raw \\\n",
        "/content/lfw/lfw_mtcnnpy_160 \\\n",
        "--image_size 160 \\\n",
        "--margin 32 \\\n",
        "--random_order \\\n",
        "--gpu_memory_fraction 0.9 \\\n",
        "& done"
      ],
      "execution_count": 0,
      "outputs": []
    },
    {
      "metadata": {
        "id": "rrAENFcVS7XI",
        "colab_type": "code",
        "colab": {}
      },
      "cell_type": "code",
      "source": [
        "!ls lfw/lfw_mtcnnpy_160/"
      ],
      "execution_count": 0,
      "outputs": []
    },
    {
      "metadata": {
        "id": "Gt4FOs4_MycZ",
        "colab_type": "text"
      },
      "cell_type": "markdown",
      "source": [
        "## 5. Download pre-trained model (optional)"
      ]
    },
    {
      "metadata": {
        "id": "ls5DzQmwkQEt",
        "colab_type": "text"
      },
      "cell_type": "markdown",
      "source": [
        "Follow the instructions to login to your Google Account. This is required to download the pretrained model file from Google Drive."
      ]
    },
    {
      "metadata": {
        "id": "G2KVGp3AM0nM",
        "colab_type": "code",
        "colab": {}
      },
      "cell_type": "code",
      "source": [
        "from google.colab import auth\n",
        "auth.authenticate_user()"
      ],
      "execution_count": 0,
      "outputs": []
    },
    {
      "metadata": {
        "id": "dtzJ33GuOQ_T",
        "colab_type": "code",
        "colab": {}
      },
      "cell_type": "code",
      "source": [
        "from googleapiclient.discovery import build\n",
        "drive_service = build('drive', 'v3')"
      ],
      "execution_count": 0,
      "outputs": []
    },
    {
      "metadata": {
        "id": "oZhcgzReUFPl",
        "colab_type": "code",
        "colab": {}
      },
      "cell_type": "code",
      "source": [
        "!pip install -U -q PyDrive\n",
        "from pydrive.auth import GoogleAuth\n",
        "from pydrive.drive import GoogleDrive\n",
        "from google.colab import auth\n",
        "from oauth2client.client import GoogleCredentials\n",
        "import io\n",
        "import zipfile\n",
        "# Authenticate and create the PyDrive client.\n",
        "# This only needs to be done once per notebook.\n",
        "auth.authenticate_user()\n",
        "gauth = GoogleAuth()\n",
        "gauth.credentials = GoogleCredentials.get_application_default()\n",
        "drive = GoogleDrive(gauth)\n",
        "\n",
        "# Download a file based on its file ID.\n",
        "#\n",
        "# A file ID looks like: laggVyWshwcyP6kEI-y_W3P8D26sz\n",
        "file_id = '1EXPBSXwTaqrSC0OhUdXNmKSh9qJUQ55-' #-- Updated File ID for my zip\n",
        "downloaded = drive.CreateFile({'id': file_id})\n",
        "downloaded.GetContentFile('20180402-114759.zip') "
      ],
      "execution_count": 0,
      "outputs": []
    },
    {
      "metadata": {
        "id": "dkxLmaxfOsG1",
        "colab_type": "code",
        "colab": {}
      },
      "cell_type": "code",
      "source": [
        "!sudo apt install -y unzip\n",
        "!unzip 20180402-114759.zip"
      ],
      "execution_count": 0,
      "outputs": []
    },
    {
      "metadata": {
        "id": "Mj26TTwpOok7",
        "colab_type": "text"
      },
      "cell_type": "markdown",
      "source": [
        "## 6. Run the test"
      ]
    },
    {
      "metadata": {
        "id": "YUL30yhHO5B7",
        "colab_type": "code",
        "colab": {}
      },
      "cell_type": "code",
      "source": [
        "%%shell\n",
        "cd facenet\n",
        "python src/validate_on_lfw.py \\\n",
        "/content/lfw/lfw_mtcnnpy_160 \\\n",
        "/content/20180402-114759 \\\n",
        "--distance_metric 1 \\\n",
        "--use_flipped_images \\\n",
        "--subtract_mean \\\n",
        "--use_fixed_image_standardization"
      ],
      "execution_count": 0,
      "outputs": []
    }
  ]
}